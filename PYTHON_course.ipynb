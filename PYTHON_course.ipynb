{
  "nbformat": 4,
  "nbformat_minor": 0,
  "metadata": {
    "colab": {
      "name": "PYTHON_course.ipynb",
      "provenance": [],
      "collapsed_sections": [],
      "toc_visible": true,
      "authorship_tag": "ABX9TyP6nqSmTLOpIF7hAP+PXlCh",
      "include_colab_link": true
    },
    "kernelspec": {
      "name": "python3",
      "display_name": "Python 3"
    },
    "language_info": {
      "name": "python"
    }
  },
  "cells": [
    {
      "cell_type": "markdown",
      "metadata": {
        "id": "view-in-github",
        "colab_type": "text"
      },
      "source": [
        "<a href=\"https://colab.research.google.com/github/PratibhaPachare/python-basics/blob/main/PYTHON_course.ipynb\" target=\"_parent\"><img src=\"https://colab.research.google.com/assets/colab-badge.svg\" alt=\"Open In Colab\"/></a>"
      ]
    },
    {
      "cell_type": "markdown",
      "source": [
        "**MODULE NO.1**"
      ],
      "metadata": {
        "id": "xpVRstr7pawv"
      }
    },
    {
      "cell_type": "markdown",
      "source": [
        "# New Section"
      ],
      "metadata": {
        "id": "IgU5CqPUS1Kx"
      }
    },
    {
      "cell_type": "code",
      "execution_count": null,
      "metadata": {
        "colab": {
          "base_uri": "https://localhost:8080/"
        },
        "id": "ekrDqK5grRYQ",
        "outputId": "62c540bd-a04a-4518-e78e-398be5851088"
      },
      "outputs": [
        {
          "output_type": "stream",
          "name": "stdout",
          "text": [
            "Hello World.\n"
          ]
        }
      ],
      "source": [
        "'''Multiline \n",
        "comment\n",
        " ''' \n",
        " #Single line comment"
      ]
    },
    {
      "cell_type": "code",
      "source": [
        "# GUVI PYTHON COARSE MODULE NO. 1\n",
        "print(\"Hello World.\")"
      ],
      "metadata": {
        "colab": {
          "base_uri": "https://localhost:8080/"
        },
        "id": "FZOxM6Ns5LTl",
        "outputId": "50004fc8-a614-4331-c757-a58ac198aee8"
      },
      "execution_count": null,
      "outputs": [
        {
          "output_type": "stream",
          "name": "stdout",
          "text": [
            "Hello World.\n"
          ]
        }
      ]
    },
    {
      "cell_type": "code",
      "source": [
        "# Numbers & Math functions\n",
        "a=10\n",
        "b=2.1\n",
        "c=2j\n",
        "print(type(a))\n",
        "print(type(b))\n",
        "print(type(c))"
      ],
      "metadata": {
        "colab": {
          "base_uri": "https://localhost:8080/"
        },
        "id": "-wD0ERi_CmaC",
        "outputId": "703f7433-1d66-4e47-9e04-3c61e6212356"
      },
      "execution_count": null,
      "outputs": [
        {
          "output_type": "stream",
          "name": "stdout",
          "text": [
            "<class 'int'>\n",
            "<class 'float'>\n",
            "<class 'complex'>\n"
          ]
        }
      ]
    },
    {
      "cell_type": "code",
      "source": [
        "# converting the variable\n",
        "d=float(a)\n",
        "e=complex(b)\n",
        "#f=int(c) we cant covert complex into int or float\n",
        "print(d)\n",
        "print(e)"
      ],
      "metadata": {
        "colab": {
          "base_uri": "https://localhost:8080/"
        },
        "id": "GUetpWNMDW2D",
        "outputId": "d80985a5-929d-4f0e-8ca7-8cef0dc5410b"
      },
      "execution_count": null,
      "outputs": [
        {
          "output_type": "stream",
          "name": "stdout",
          "text": [
            "10.0\n",
            "(2.1+0j)\n"
          ]
        }
      ]
    },
    {
      "cell_type": "code",
      "source": [
        "# MAth Operstions\n",
        "a=100\n",
        "b=20\n",
        "x=a+b\n",
        "y=a-b\n",
        "z=a*b\n",
        "w=a/b\n",
        "Modulus=a%b\n",
        "Exponential=a**b\n",
        "Floor_division=a//b\n",
        "print(x)\n",
        "print(y)\n",
        "print(z)\n",
        "print(w)\n",
        "print(Modulus)\n",
        "print(Exponential)\n",
        "print(Floor_division)"
      ],
      "metadata": {
        "colab": {
          "base_uri": "https://localhost:8080/"
        },
        "id": "fi2vBOUuEvYE",
        "outputId": "2a8df0b7-05e9-457f-ede7-1078704af324"
      },
      "execution_count": null,
      "outputs": [
        {
          "output_type": "stream",
          "name": "stdout",
          "text": [
            "120\n",
            "80\n",
            "2000\n",
            "5.0\n",
            "0\n",
            "10000000000000000000000000000000000000000\n",
            "5\n"
          ]
        }
      ]
    },
    {
      "cell_type": "markdown",
      "source": [
        "MODULE NO.2"
      ],
      "metadata": {
        "id": "88zot7dOppkE"
      }
    },
    {
      "cell_type": "code",
      "source": [
        "# GUVI PYTHON COURSE MODULE NO.2\n",
        "#VARIABLES & NAMES\n",
        "a=15.55\n",
        "b=int(a)\n",
        "a=15\n",
        "c=float(a)\n",
        "print(a)\n",
        "print(b)\n",
        "print(c)"
      ],
      "metadata": {
        "id": "5jbxircUSeAd",
        "colab": {
          "base_uri": "https://localhost:8080/"
        },
        "outputId": "8c80cec5-3a5d-4079-e0b3-9d9c856bfa14"
      },
      "execution_count": null,
      "outputs": [
        {
          "output_type": "stream",
          "name": "stdout",
          "text": [
            "15\n",
            "15\n",
            "15.0\n"
          ]
        }
      ]
    },
    {
      "cell_type": "code",
      "source": [
        "a=\"guvi\"\n",
        "A=15\n",
        "print(a)\n",
        "print(type(a))\n",
        "print(A)\n",
        "print(type(A))"
      ],
      "metadata": {
        "id": "_INYWTIiTEmX",
        "colab": {
          "base_uri": "https://localhost:8080/"
        },
        "outputId": "66c667b7-d70c-4bdf-802d-316d8e2b42b9"
      },
      "execution_count": null,
      "outputs": [
        {
          "output_type": "stream",
          "name": "stdout",
          "text": [
            "guvi\n",
            "<class 'str'>\n",
            "15\n",
            "<class 'int'>\n"
          ]
        }
      ]
    },
    {
      "cell_type": "code",
      "source": [
        "#ASSIGNING MULTIPLE VALUES TO VARIABLE\n",
        "A,B,C=10,19,20\n",
        "print(A)\n",
        "print(B)\n",
        "print(C)"
      ],
      "metadata": {
        "colab": {
          "base_uri": "https://localhost:8080/"
        },
        "id": "vf-baLKwZ81Y",
        "outputId": "e79465e9-5fe2-4f30-c4f9-38e18c0f2979"
      },
      "execution_count": null,
      "outputs": [
        {
          "output_type": "stream",
          "name": "stdout",
          "text": [
            "10\n",
            "19\n",
            "20\n"
          ]
        }
      ]
    },
    {
      "cell_type": "code",
      "source": [
        "A=B=C=10,19,20\n",
        "print(A)\n",
        "print(B)\n",
        "print(C)"
      ],
      "metadata": {
        "colab": {
          "base_uri": "https://localhost:8080/"
        },
        "id": "rs_IMPy-equQ",
        "outputId": "79d98c28-480e-4491-e632-6dce29bb6ef7"
      },
      "execution_count": null,
      "outputs": [
        {
          "output_type": "stream",
          "name": "stdout",
          "text": [
            "(10, 19, 20)\n",
            "(10, 19, 20)\n",
            "(10, 19, 20)\n"
          ]
        }
      ]
    },
    {
      "cell_type": "code",
      "source": [
        "#MULTILINE STRINGS IN PYTHON\n",
        "X = \"\"\"PYTHON IS\n",
        "OBJECT ORIENTED\n",
        "PROGRAMMING\n",
        "LANGUAGE\"\"\"\n",
        "print(X)\n"
      ],
      "metadata": {
        "colab": {
          "base_uri": "https://localhost:8080/"
        },
        "id": "VgvmT0AVfieO",
        "outputId": "4c4e6c73-0bbf-427a-d3ef-2e81b13f273c"
      },
      "execution_count": null,
      "outputs": [
        {
          "output_type": "stream",
          "name": "stdout",
          "text": [
            "PYTHON IS\n",
            "OBJECT ORIENTED\n",
            "PROGRAMMING\n",
            "LANGUAGE\n"
          ]
        }
      ]
    },
    {
      "cell_type": "code",
      "source": [
        ""
      ],
      "metadata": {
        "id": "cG2T9WGqoWrX"
      },
      "execution_count": null,
      "outputs": []
    },
    {
      "cell_type": "markdown",
      "source": [
        "STRING OPERATION"
      ],
      "metadata": {
        "id": "HVwf50Tfn1QE"
      }
    },
    {
      "cell_type": "code",
      "source": [
        "X=\"PYTHON IS OBJECT ORIENTED PROGRAMMING LANGUAGE\"\n",
        "print(X[5])\n",
        "print(X[0:3]) #slicing\n",
        "print(X[-1])\n",
        "print(X[-15:-1]) #negative index slicing\n",
        "print(len(X))\n",
        "print(\"python\" in X) #to chek word present in string"
      ],
      "metadata": {
        "colab": {
          "base_uri": "https://localhost:8080/"
        },
        "id": "RaFI1dXPgQG2",
        "outputId": "106aaba8-4006-4f45-a6e2-60b9b2d69b14"
      },
      "execution_count": null,
      "outputs": [
        {
          "output_type": "stream",
          "name": "stdout",
          "text": [
            "N\n",
            "PYT\n",
            "E\n",
            "AMMING LANGUAG\n",
            "46\n",
            "False\n"
          ]
        }
      ]
    },
    {
      "cell_type": "markdown",
      "source": [
        ""
      ],
      "metadata": {
        "id": "WCT5Mowvn7MF"
      }
    },
    {
      "cell_type": "code",
      "source": [
        "x=\"python\"\n",
        "for a in x:\n",
        "  print(a)"
      ],
      "metadata": {
        "colab": {
          "base_uri": "https://localhost:8080/"
        },
        "id": "ur8fgayJhzrl",
        "outputId": "f5251e58-7529-478b-bbf8-ca79c696d00f"
      },
      "execution_count": null,
      "outputs": [
        {
          "output_type": "stream",
          "name": "stdout",
          "text": [
            "p\n",
            "y\n",
            "t\n",
            "h\n",
            "o\n",
            "n\n"
          ]
        }
      ]
    },
    {
      "cell_type": "code",
      "source": [
        "#MODIFY THE STRING\n",
        "x=\"my, name is KHAN\"\n",
        "print(x.upper())\n",
        "print(x.lower())\n",
        "print(x.strip()) #remove white spaces\n",
        "print(x.replace(\"my\", \"your\"))\n",
        "print(x.split(\",\"))"
      ],
      "metadata": {
        "colab": {
          "base_uri": "https://localhost:8080/"
        },
        "id": "ETCa-mW0juu5",
        "outputId": "91fd6b3a-2731-464e-b8a0-f28000d6f253"
      },
      "execution_count": null,
      "outputs": [
        {
          "output_type": "stream",
          "name": "stdout",
          "text": [
            "MY, NAME IS KHAN\n",
            "my, name is khan\n",
            "my, name is KHAN\n",
            "your, name is KHAN\n",
            "['my', ' name is KHAN']\n"
          ]
        }
      ]
    },
    {
      "cell_type": "code",
      "source": [
        "x=\"hello\"\n",
        "y=\"world\"\n",
        "print(x+ \" \"+y)"
      ],
      "metadata": {
        "colab": {
          "base_uri": "https://localhost:8080/"
        },
        "id": "GOS2Al1UnkcI",
        "outputId": "da907cb7-b41b-4ea6-f72d-64e6de70c02a"
      },
      "execution_count": null,
      "outputs": [
        {
          "output_type": "stream",
          "name": "stdout",
          "text": [
            "hello world\n"
          ]
        }
      ]
    },
    {
      "cell_type": "markdown",
      "source": [
        "CONDITIONAL STATEMENTS"
      ],
      "metadata": {
        "id": "gHwaiZ0Ep-wc"
      }
    },
    {
      "cell_type": "code",
      "source": [
        "\"\"\"\n",
        "a==b\n",
        "a!=b\n",
        "a<=b\n",
        "a>=b\n",
        "\"\"\"\n",
        "a=10\n",
        "b=10\n",
        "if a>b:\n",
        "  print(\"a\")\n",
        "elif a==b:\n",
        "  print(\"a=b\")  \n",
        "else:\n",
        "  print(\"b\")  "
      ],
      "metadata": {
        "id": "uo9u38udp95c",
        "colab": {
          "base_uri": "https://localhost:8080/"
        },
        "outputId": "4e68de3c-f028-4d63-aa40-68e551173df6"
      },
      "execution_count": null,
      "outputs": [
        {
          "output_type": "stream",
          "name": "stdout",
          "text": [
            "a=b\n"
          ]
        }
      ]
    },
    {
      "cell_type": "code",
      "source": [
        "a=10\n",
        "b=20\n",
        "if a>b and a!=b:\n",
        "  print(\"a\")\n",
        "elif a==b:\n",
        "  print(\"a=b\")\n",
        "else:\n",
        "  print(\"b\")    "
      ],
      "metadata": {
        "colab": {
          "base_uri": "https://localhost:8080/"
        },
        "id": "ybVVp4miuc5V",
        "outputId": "64f443db-cadc-404d-e243-ff9527b24f98"
      },
      "execution_count": null,
      "outputs": [
        {
          "output_type": "stream",
          "name": "stdout",
          "text": [
            "b\n"
          ]
        }
      ]
    },
    {
      "cell_type": "code",
      "source": [
        "a=10\n",
        "b=20\n",
        "if a>b or a!=b:\n",
        "  print(\"a\")\n",
        "elif a==b:\n",
        "  print(\"a=b\")\n",
        "else:\n",
        "  print(\"b\") "
      ],
      "metadata": {
        "colab": {
          "base_uri": "https://localhost:8080/"
        },
        "id": "p-uEUKVgwom5",
        "outputId": "9d25eabc-975f-410a-d00a-9e28f77152d3"
      },
      "execution_count": null,
      "outputs": [
        {
          "output_type": "stream",
          "name": "stdout",
          "text": [
            "a\n"
          ]
        }
      ]
    },
    {
      "cell_type": "code",
      "source": [
        "a=10\n",
        "b=20\n",
        "if a>b and a!=b:print(\"a\")\n",
        "elif a==b:print(\"a=b\")\n",
        "else:print(\"b\") "
      ],
      "metadata": {
        "colab": {
          "base_uri": "https://localhost:8080/"
        },
        "id": "1Rt7EChdwtO3",
        "outputId": "7037a15d-8975-42b9-8789-bae20878386f"
      },
      "execution_count": null,
      "outputs": [
        {
          "output_type": "stream",
          "name": "stdout",
          "text": [
            "b\n"
          ]
        }
      ]
    },
    {
      "cell_type": "markdown",
      "source": [
        "FUNCTION"
      ],
      "metadata": {
        "id": "6xTi8YYTw93t"
      }
    },
    {
      "cell_type": "code",
      "source": [
        "def demo():\n",
        "  print(\"hi there\")\n",
        "demo()  "
      ],
      "metadata": {
        "colab": {
          "base_uri": "https://localhost:8080/"
        },
        "id": "PUCizwkfw_5q",
        "outputId": "66f0c7ae-4802-497b-ddbe-a113ac5a60cb"
      },
      "execution_count": null,
      "outputs": [
        {
          "output_type": "stream",
          "name": "stdout",
          "text": [
            "hi there\n"
          ]
        }
      ]
    },
    {
      "cell_type": "code",
      "source": [
        "def demo(x):\n",
        "  print(\"hi there\", x)\n",
        "demo(\"how are you\")\n"
      ],
      "metadata": {
        "colab": {
          "base_uri": "https://localhost:8080/"
        },
        "id": "9Om7uAAQzEcJ",
        "outputId": "0411f36b-d0b5-43bf-8778-d0b1ef2b6866"
      },
      "execution_count": null,
      "outputs": [
        {
          "output_type": "stream",
          "name": "stdout",
          "text": [
            "hi there how are you\n"
          ]
        }
      ]
    },
    {
      "cell_type": "code",
      "source": [
        "def Pratibha(x,y):\n",
        "  print(x, \"is good\", y)\n",
        "Pratibha(\"ashu\",\"girl\")    "
      ],
      "metadata": {
        "colab": {
          "base_uri": "https://localhost:8080/"
        },
        "id": "Qy6U7RO6zkzF",
        "outputId": "6484389a-50e9-47c4-8b76-95a14666b16c"
      },
      "execution_count": null,
      "outputs": [
        {
          "output_type": "stream",
          "name": "stdout",
          "text": [
            "ashu is good girl\n"
          ]
        }
      ]
    },
    {
      "cell_type": "code",
      "source": [
        "x=20\n",
        "def my_function(x):\n",
        "  return x+5\n",
        "  print(x)\n",
        "my_function(20)  "
      ],
      "metadata": {
        "colab": {
          "base_uri": "https://localhost:8080/"
        },
        "id": "meWZUwhs0k9m",
        "outputId": "f3be7265-b34a-4297-d084-9e63b6f374a7"
      },
      "execution_count": null,
      "outputs": [
        {
          "output_type": "execute_result",
          "data": {
            "text/plain": [
              "25"
            ]
          },
          "metadata": {},
          "execution_count": 94
        }
      ]
    },
    {
      "cell_type": "markdown",
      "source": [
        "FOR AND WHILE LOOPS\n"
      ],
      "metadata": {
        "id": "qadk6tOO1sBT"
      }
    },
    {
      "cell_type": "code",
      "source": [
        "NUM=[1,2,3,4,5]\n",
        "for x in NUM:\n",
        "  print(x)\n"
      ],
      "metadata": {
        "colab": {
          "base_uri": "https://localhost:8080/"
        },
        "id": "ViTU-rHI1vqu",
        "outputId": "89890be2-59be-4649-99d7-989faf077c7c"
      },
      "execution_count": null,
      "outputs": [
        {
          "output_type": "stream",
          "name": "stdout",
          "text": [
            "1\n",
            "2\n",
            "3\n",
            "4\n",
            "5\n"
          ]
        }
      ]
    },
    {
      "cell_type": "code",
      "source": [
        "name=\"prati\"\n",
        "for x in name:\n",
        "  print(x)"
      ],
      "metadata": {
        "colab": {
          "base_uri": "https://localhost:8080/"
        },
        "id": "pDlkrPh2-1Va",
        "outputId": "d6d69111-e0a2-4110-a407-60f72d2c1735"
      },
      "execution_count": null,
      "outputs": [
        {
          "output_type": "stream",
          "name": "stdout",
          "text": [
            "p\n",
            "r\n",
            "a\n",
            "t\n",
            "i\n"
          ]
        }
      ]
    },
    {
      "cell_type": "code",
      "source": [
        "list=[20,30,40,5,6,7]\n",
        "for a in list:\n",
        "  print(a)\n",
        "  if a==5: #value has to be present\n",
        "    break"
      ],
      "metadata": {
        "colab": {
          "base_uri": "https://localhost:8080/"
        },
        "id": "cy74WRRa_csf",
        "outputId": "6899ea32-ec07-4d38-968f-3c8bfaaf7ac9"
      },
      "execution_count": null,
      "outputs": [
        {
          "output_type": "stream",
          "name": "stdout",
          "text": [
            "20\n",
            "30\n",
            "40\n",
            "5\n"
          ]
        }
      ]
    },
    {
      "cell_type": "code",
      "source": [
        "list=[20,30,40,5,6,7]\n",
        "for a in list:\n",
        "  if a==30:\n",
        "    continue\n",
        "  print(a)  #print statement should be under if"
      ],
      "metadata": {
        "colab": {
          "base_uri": "https://localhost:8080/"
        },
        "id": "WN2ObC0R_zrw",
        "outputId": "0d873ec6-f988-4b62-cde2-74d58729f9ed"
      },
      "execution_count": null,
      "outputs": [
        {
          "output_type": "stream",
          "name": "stdout",
          "text": [
            "20\n",
            "40\n",
            "5\n",
            "6\n",
            "7\n"
          ]
        }
      ]
    },
    {
      "cell_type": "code",
      "source": [
        "for x in range(5):\n",
        "  print(x)"
      ],
      "metadata": {
        "colab": {
          "base_uri": "https://localhost:8080/"
        },
        "id": "pi7lu5PKA-c9",
        "outputId": "275a586a-2cd6-4f65-e60d-65390b978f8c"
      },
      "execution_count": null,
      "outputs": [
        {
          "output_type": "stream",
          "name": "stdout",
          "text": [
            "0\n",
            "1\n",
            "2\n",
            "3\n",
            "4\n"
          ]
        }
      ]
    },
    {
      "cell_type": "code",
      "source": [
        "for x in range(1,6):\n",
        "  print(x)"
      ],
      "metadata": {
        "colab": {
          "base_uri": "https://localhost:8080/"
        },
        "id": "AOf1330mBfhh",
        "outputId": "370521a0-adf5-4ad1-f1d2-be974916b16c"
      },
      "execution_count": null,
      "outputs": [
        {
          "output_type": "stream",
          "name": "stdout",
          "text": [
            "1\n",
            "2\n",
            "3\n",
            "4\n",
            "5\n"
          ]
        }
      ]
    },
    {
      "cell_type": "code",
      "source": [
        "i=1\n",
        "while i<6:\n",
        "  print(i)\n",
        "  i+=1  "
      ],
      "metadata": {
        "colab": {
          "base_uri": "https://localhost:8080/"
        },
        "id": "mW-z9TMuCBl7",
        "outputId": "17ae25af-8dc7-4c67-afba-b5a6eef9edad"
      },
      "execution_count": null,
      "outputs": [
        {
          "output_type": "stream",
          "name": "stdout",
          "text": [
            "1\n",
            "2\n",
            "3\n",
            "4\n",
            "5\n"
          ]
        }
      ]
    },
    {
      "cell_type": "code",
      "source": [
        "i=1\n",
        "while i<6:\n",
        "  if i>=3:\n",
        "    break\n",
        "  print(i) \n",
        "  i+= 1"
      ],
      "metadata": {
        "colab": {
          "base_uri": "https://localhost:8080/"
        },
        "id": "jEA-OzUjCoN9",
        "outputId": "de809856-5210-4c1c-e25e-e83de26408c9"
      },
      "execution_count": null,
      "outputs": [
        {
          "output_type": "stream",
          "name": "stdout",
          "text": [
            "1\n",
            "2\n"
          ]
        }
      ]
    },
    {
      "cell_type": "code",
      "source": [
        "i=1\n",
        "while i<6:\n",
        "  i+=1\n",
        "  if i<3:\n",
        "    continue\n",
        "  print(i) "
      ],
      "metadata": {
        "colab": {
          "base_uri": "https://localhost:8080/"
        },
        "id": "yBMxvzgtEHdE",
        "outputId": "d4735fc3-8128-42db-8ff3-b30df22d6ce0"
      },
      "execution_count": null,
      "outputs": [
        {
          "output_type": "stream",
          "name": "stdout",
          "text": [
            "3\n",
            "4\n",
            "5\n",
            "6\n"
          ]
        }
      ]
    },
    {
      "cell_type": "markdown",
      "source": [
        "MODULE NO.3"
      ],
      "metadata": {
        "id": "GjxtMvMLFjWv"
      }
    },
    {
      "cell_type": "code",
      "source": [
        "#FUNNCTION AS ARGUMENTS\n",
        "def trial (x,y):\n",
        "  print(x+\" \"+y)\n",
        "trial(\"hello\",\"world\")  "
      ],
      "metadata": {
        "id": "yx0YSKbwFoBT",
        "colab": {
          "base_uri": "https://localhost:8080/"
        },
        "outputId": "4f85c566-86e0-4b45-d742-f50b5a3a2ae4"
      },
      "execution_count": null,
      "outputs": [
        {
          "output_type": "stream",
          "name": "stdout",
          "text": [
            "hello world\n"
          ]
        }
      ]
    },
    {
      "cell_type": "code",
      "source": [
        "list= [\"MAP\",\"GEOGRAPHY\"]\n",
        "def travel(x):\n",
        "  print(x*3)\n",
        "travel(list)  "
      ],
      "metadata": {
        "colab": {
          "base_uri": "https://localhost:8080/"
        },
        "id": "GkAuAv0bQj0-",
        "outputId": "21bf7e15-55c3-4231-8499-66aee0f83163"
      },
      "execution_count": null,
      "outputs": [
        {
          "output_type": "stream",
          "name": "stdout",
          "text": [
            "['MAP', 'GEOGRAPHY', 'MAP', 'GEOGRAPHY', 'MAP', 'GEOGRAPHY']\n"
          ]
        }
      ]
    },
    {
      "cell_type": "code",
      "source": [
        "list= [\"MAP\",\"GEOGRAPHY\"]\n",
        "def travel(x):\n",
        "  print(x*3)\n",
        "def boat(kayak,list):\n",
        "  for item in list:\n",
        "    kayak(item)\n",
        "boat(travel,list)    "
      ],
      "metadata": {
        "colab": {
          "base_uri": "https://localhost:8080/"
        },
        "id": "dw0KGdPASm1Y",
        "outputId": "d121e9cd-5fc1-489a-954f-70e729c17eeb"
      },
      "execution_count": null,
      "outputs": [
        {
          "output_type": "stream",
          "name": "stdout",
          "text": [
            "MAPMAPMAP\n",
            "GEOGRAPHYGEOGRAPHYGEOGRAPHY\n"
          ]
        }
      ]
    },
    {
      "cell_type": "code",
      "source": [
        "#LIST [] - ordered, changable, allow duplicates, allows all data types \n",
        "#TUPLE () - ordered, UNCHANGABLE, allow duplicates, allows all data types\n",
        "#DICTIONARY {} - UNORDERED, CHANGABLE, DONT ALLOW DUPLICATES, allows all data types"
      ],
      "metadata": {
        "id": "ioUuylvmXGow"
      },
      "execution_count": null,
      "outputs": []
    },
    {
      "cell_type": "code",
      "source": [
        "#LIST\n",
        "list=[\"pratibha\", 29, 5.6, 2+5j, \"dmietr\", 29]\n",
        "print(list)\n",
        "print(len(list))\n",
        "print(type(list))\n",
        "print(list[0])\n",
        "print(list[0:4])\n",
        "print(list[:4])\n",
        "list[3]=\"monnu\"\n",
        "print(list)\n",
        "list[3:5]=\"monnu\", 23,5\n",
        "print(list)\n",
        "list.insert(0,\"MIss\")\n",
        "print(list)\n",
        "list.append(\"pachare\")\n",
        "print(list)"
      ],
      "metadata": {
        "id": "LAIOegoDdQuc"
      },
      "execution_count": null,
      "outputs": []
    },
    {
      "cell_type": "code",
      "source": [
        "#TUPLE\n",
        "tuple=(\"pratibha\", 29, 5.6, 2+5j, \"dmietr\", 29)\n",
        "print(tuple)\n",
        "print(len(tuple))\n",
        "print(type(tuple))\n",
        "print(tuple[0])\n",
        "print(tuple[0:4])\n",
        "print(tuple[:4])\n",
        "#unchangable cant append, remove\n",
        "tuple=(\"car\")\n",
        "print(type(tuple)) # class string\n",
        "tuple=(\"car\",)\n",
        "print(type(tuple)) # class tuple"
      ],
      "metadata": {
        "id": "EKroWpbOdRdT"
      },
      "execution_count": null,
      "outputs": []
    },
    {
      "cell_type": "markdown",
      "source": [
        "# New Section"
      ],
      "metadata": {
        "id": "2ebeyT3NS8jV"
      }
    },
    {
      "cell_type": "code",
      "source": [
        "#DICTIONARY - key:value\n",
        "dic={\"name\":\"pratibha\",\"age\":29, \"height\":5.6, \"college\": \"dmietr\"}\n",
        "print(dic)\n",
        "print(len(dic))\n",
        "print(type(dic))\n",
        "\n",
        "#dic.add(\"name\", \"monu\")\n",
        "#you can have list in dictionary\n",
        "dic={\"name\":\"pratibha\",\"age\":29, \"height\":5.6, \"college\": [\"dmietr\", \"nejc\",\"dwk\"]}\n",
        "print(dic)\n",
        "x=dic[\"name\"]\n",
        "print(x)\n",
        "x=dic.get(\"name\")\n",
        "print(x)\n",
        "dic.update({\"name\" :\"prati\"})\n",
        "print(dic)\n",
        "dic.pop(\"name\")\n"
      ],
      "metadata": {
        "colab": {
          "base_uri": "https://localhost:8080/",
          "height": 156
        },
        "id": "SA-PFkwrecCS",
        "outputId": "ae40315e-e49d-464f-eeb8-34083f50bf68"
      },
      "execution_count": null,
      "outputs": [
        {
          "output_type": "stream",
          "name": "stdout",
          "text": [
            "{'name': 'pratibha', 'age': 29, 'height': 5.6, 'college': 'dmietr'}\n",
            "4\n",
            "<class 'dict'>\n",
            "{'name': 'pratibha', 'age': 29, 'height': 5.6, 'college': ['dmietr', 'nejc', 'dwk']}\n",
            "pratibha\n",
            "pratibha\n",
            "{'name': 'prati', 'age': 29, 'height': 5.6, 'college': ['dmietr', 'nejc', 'dwk']}\n"
          ]
        },
        {
          "output_type": "execute_result",
          "data": {
            "text/plain": [
              "'prati'"
            ],
            "application/vnd.google.colaboratory.intrinsic+json": {
              "type": "string"
            }
          },
          "metadata": {},
          "execution_count": 40
        }
      ]
    },
    {
      "cell_type": "markdown",
      "source": [
        "LIST COMPREHENSION"
      ],
      "metadata": {
        "id": "iKLp5HVq3PAP"
      }
    },
    {
      "cell_type": "code",
      "source": [
        "#TO CREATE A NEW LIST FROM LIST GIVEN.\n",
        "# [A] without using list coprehension\n",
        "list=[\"pratibha\", \"datta\", \"rrr\", \"charan\", \"ram\"]\n",
        "newlist=[]\n",
        "for x in list:\n",
        "  if \"r\" in x:\n",
        "    newlist.append(x)\n",
        "print(newlist)\n",
        "\n",
        "#[B] Using list coprehension\n",
        "list=[\"Pratibha\", \"Datta\", \"rrr\", \"Charan\", \"Ram\"]\n",
        "newlist=[x for x in list if \"r\" in x]\n",
        "print(newlist)\n",
        "\n",
        "newlist=[x for x in list if \"r\" in x!=\"rrr\"]\n",
        "print(newlist)\n",
        "\n",
        "newlist=[x for x in list]\n",
        "print(newlist)\n",
        "\n",
        "newlist=[x for x in range(10)]\n",
        "print(newlist)\n",
        "\n",
        "newlist=[x for x in range(10) if x<5]\n",
        "print(newlist)\n",
        "\n",
        "newlist=[x.lower() for x in list]\n",
        "print(newlist)\n",
        "\n",
        "newlist=[x.upper() for x in list]\n",
        "print(newlist)\n",
        "\n",
        "newlist=[x if x!=\"Ram\" else \"ntr\" for x in list]\n",
        "print(newlist)\n"
      ],
      "metadata": {
        "colab": {
          "base_uri": "https://localhost:8080/"
        },
        "id": "HT-RTaWh3SKL",
        "outputId": "d0de4b80-977e-4daa-ec90-9a1d3336f1dd"
      },
      "execution_count": null,
      "outputs": [
        {
          "output_type": "stream",
          "name": "stdout",
          "text": [
            "['pratibha', 'rrr', 'charan', 'ram']\n",
            "['Pratibha', 'rrr', 'Charan']\n",
            "['Pratibha', 'Charan']\n",
            "['Pratibha', 'Datta', 'rrr', 'Charan', 'Ram']\n",
            "[0, 1, 2, 3, 4, 5, 6, 7, 8, 9]\n",
            "[0, 1, 2, 3, 4]\n",
            "['pratibha', 'datta', 'rrr', 'charan', 'ram']\n",
            "['PRATIBHA', 'DATTA', 'RRR', 'CHARAN', 'RAM']\n",
            "['Pratibha', 'Datta', 'rrr', 'Charan', 'ntr']\n"
          ]
        }
      ]
    },
    {
      "cell_type": "markdown",
      "source": [
        "CLASSES AND OBJECTS\n",
        "\n"
      ],
      "metadata": {
        "id": "TFFvtZf2-Cza"
      }
    },
    {
      "cell_type": "code",
      "source": [
        "class human:\n",
        "  x=5\n",
        "h1=human()\n",
        "print(h1.x)  "
      ],
      "metadata": {
        "colab": {
          "base_uri": "https://localhost:8080/"
        },
        "id": "d6gW6WqP-dVR",
        "outputId": "d391f325-b031-42e4-c2a1-8f2c3384fcba"
      },
      "execution_count": null,
      "outputs": [
        {
          "output_type": "stream",
          "name": "stdout",
          "text": [
            "5\n"
          ]
        }
      ]
    },
    {
      "cell_type": "code",
      "source": [
        "class human:\n",
        "  def __init__(self, name, age):\n",
        "    self.name=name\n",
        "    self.age=age\n",
        "h1=human(\"pratibha\", 5)\n",
        "print(h1.name)\n",
        "print(h1.age)\n"
      ],
      "metadata": {
        "colab": {
          "base_uri": "https://localhost:8080/"
        },
        "id": "ceK8_jKGDKvB",
        "outputId": "491c8e6b-875b-4633-aa04-066a9c47fe9e"
      },
      "execution_count": null,
      "outputs": [
        {
          "output_type": "stream",
          "name": "stdout",
          "text": [
            "pratibha\n",
            "5\n"
          ]
        }
      ]
    },
    {
      "cell_type": "markdown",
      "source": [
        "MODULE NO.4"
      ],
      "metadata": {
        "id": "HKaJjT3y-KOA"
      }
    },
    {
      "cell_type": "code",
      "source": [
        "#LAMBDA FUNCTION\n",
        "x=lambda a:a+20\n",
        "print(x(5))\n",
        "\n",
        "x=lambda a,b:a+b\n",
        "print(x(20,25))"
      ],
      "metadata": {
        "id": "99JcR--B-I_1",
        "colab": {
          "base_uri": "https://localhost:8080/"
        },
        "outputId": "cece0489-0665-4515-d6c9-6406fbd2b529"
      },
      "execution_count": null,
      "outputs": [
        {
          "output_type": "stream",
          "name": "stdout",
          "text": [
            "25\n",
            "45\n"
          ]
        }
      ]
    },
    {
      "cell_type": "code",
      "source": [
        "#lambda function inside a function\n",
        "def f1(n):\n",
        "  return lambda a:a*n \n",
        "doub=f1(2)\n",
        "print(doub(11))\n",
        "\n",
        "trip=f1(3)\n",
        "print(trip(11))\n"
      ],
      "metadata": {
        "id": "szhFw4_G-RQw",
        "colab": {
          "base_uri": "https://localhost:8080/"
        },
        "outputId": "9e1aec6e-2e12-41b3-fdc8-15b99ae9bb74"
      },
      "execution_count": null,
      "outputs": [
        {
          "output_type": "stream",
          "name": "stdout",
          "text": [
            "22\n",
            "33\n"
          ]
        }
      ]
    },
    {
      "cell_type": "code",
      "source": [
        "#filter function returns bolean expressions\n",
        "def prime(x):\n",
        "  for n in range(2, x):\n",
        "    if x%n==0:\n",
        "      return False\n",
        "    else:\n",
        "      return True  \n",
        "filtered=filter(prime, range(20))\n",
        "print(\"prime numbers are :\", list(filtered))"
      ],
      "metadata": {
        "id": "K53iwkTi-RDS",
        "colab": {
          "base_uri": "https://localhost:8080/"
        },
        "outputId": "0e388d30-e6ec-4d22-ff93-833d36b5d4bd"
      },
      "execution_count": null,
      "outputs": [
        {
          "output_type": "stream",
          "name": "stdout",
          "text": [
            "prime numbers are : [3, 5, 7, 9, 11, 13, 15, 17, 19]\n"
          ]
        }
      ]
    },
    {
      "cell_type": "code",
      "source": [
        "#MAP function is inbuilt function\n",
        "def square(x):\n",
        "  return x*x\n",
        "numbers=[1,2,3,4,5,6]\n",
        "listsquares= map(square, numbers)\n",
        "print(list(listsquares))  "
      ],
      "metadata": {
        "id": "7Hj8is7n-Q3j",
        "colab": {
          "base_uri": "https://localhost:8080/"
        },
        "outputId": "7292febe-5c23-474c-87e1-c000041a9a80"
      },
      "execution_count": null,
      "outputs": [
        {
          "output_type": "stream",
          "name": "stdout",
          "text": [
            "[1, 4, 9, 16, 25, 36]\n"
          ]
        }
      ]
    },
    {
      "cell_type": "code",
      "source": [
        "#PYTHON PIP\n",
        "#package is basically contains the file you need\n",
        "#python packages: 1)Numpy 2)Pendulum 3)pyQt 4)pandas 5)python imaging library 6)moviepy 7)py32 8)pytest 9)tkinter 10)Requests\n",
        "# to check pip version -  go to the cmd and then -m pip --version then enter\n"
      ],
      "metadata": {
        "id": "3HuNFuW2-QrV"
      },
      "execution_count": null,
      "outputs": []
    },
    {
      "cell_type": "code",
      "source": [
        "#read excel data in python\n",
        "#import xlrd\n",
        "\n"
      ],
      "metadata": {
        "id": "uQ82SIFL-QRV"
      },
      "execution_count": null,
      "outputs": []
    },
    {
      "cell_type": "code",
      "source": [
        "#python MySQL\n"
      ],
      "metadata": {
        "id": "57IWEz6xY_1p"
      },
      "execution_count": null,
      "outputs": []
    },
    {
      "cell_type": "code",
      "source": [
        "#iterater in python\n",
        "#iter() and next()\n",
        "\n",
        "#(1) iterables- list, tuple, dict are iterable objects\n",
        "tuple=(\"pratibha\", 29, 5.6, 2+5j, \"dmietr\", 29)\n",
        "a= iter(tuple)\n",
        "print(next(a))\n",
        "print(next(a))\n",
        "print(next(a))\n",
        "print(next(a))\n",
        "\n",
        "#strings are also iterable\n",
        "string=\"shankarrao\"\n",
        "a= iter(string)\n",
        "print(next(a))\n",
        "print(next(a))\n",
        "print(next(a))\n",
        "print(next(a))"
      ],
      "metadata": {
        "colab": {
          "base_uri": "https://localhost:8080/"
        },
        "id": "ErjKbwveY_nj",
        "outputId": "99c72b6a-7b58-4ba8-a731-84defdb3e868"
      },
      "execution_count": null,
      "outputs": [
        {
          "output_type": "stream",
          "name": "stdout",
          "text": [
            "pratibha\n",
            "29\n",
            "5.6\n",
            "(2+5j)\n",
            "s\n",
            "h\n",
            "a\n",
            "n\n"
          ]
        }
      ]
    },
    {
      "cell_type": "code",
      "source": [
        "#we can iter using for loop\n",
        "tuple=(\"pratibha\", 29, 5.6, 2+5j, \"dmietr\", 29)\n",
        "for x in tuple:\n",
        "  print(x)"
      ],
      "metadata": {
        "colab": {
          "base_uri": "https://localhost:8080/"
        },
        "id": "HfGoKxjneo-5",
        "outputId": "57894f2c-dc2a-4529-a665-ece6af8e85e8"
      },
      "execution_count": null,
      "outputs": [
        {
          "output_type": "stream",
          "name": "stdout",
          "text": [
            "pratibha\n",
            "29\n",
            "5.6\n",
            "(2+5j)\n",
            "dmietr\n",
            "29\n"
          ]
        }
      ]
    },
    {
      "cell_type": "code",
      "source": [
        "#(2)iterator\n",
        "\n",
        "class mynumbers:\n",
        "  def __iter__(self):\n",
        "    self.a=1\n",
        "    return self\n",
        "  def __next__(self):\n",
        "    x=self.a\n",
        "    self.a+=1\n",
        "    return x\n",
        "myclass=mynumbers()\n",
        "myiter=iter(myclass) \n",
        "print(next(myiter))\n",
        "print(next(myiter))\n",
        "print(next(myiter))"
      ],
      "metadata": {
        "colab": {
          "base_uri": "https://localhost:8080/"
        },
        "id": "J3vbeiK8Y-4J",
        "outputId": "b63bcf07-bd48-40bf-d633-f09a4cdde83b"
      },
      "execution_count": null,
      "outputs": [
        {
          "output_type": "stream",
          "name": "stdout",
          "text": [
            "1\n",
            "2\n",
            "3\n"
          ]
        }
      ]
    },
    {
      "cell_type": "code",
      "source": [
        "#pickling\n",
        "#serialization and deserialization 2d to 1d or 1d to 2d\n",
        "#converting any type of objects into bytes 01010 \n",
        "#need this mainly in ML\n",
        "#data is two diamentional - for ml need to convert data to 1d format\n"
      ],
      "metadata": {
        "id": "TJTCNhvTY-mx"
      },
      "execution_count": null,
      "outputs": []
    },
    {
      "cell_type": "code",
      "source": [
        "#python JSON - JAWA SCRIPT OBJECT NOTATION\n",
        "\n",
        "\n"
      ],
      "metadata": {
        "id": "WZHo06G8haQ3"
      },
      "execution_count": null,
      "outputs": []
    }
  ]
}